{
 "cells": [
  {
   "cell_type": "code",
   "execution_count": 1,
   "id": "100eca7a-5023-4c8b-8dba-616daf9633fc",
   "metadata": {},
   "outputs": [],
   "source": [
    "import re\n",
    "import numpy as np\n",
    "from scipy.optimize import minimize\n",
    "import sympy as sp"
   ]
  },
  {
   "cell_type": "markdown",
   "id": "2d7f8056-a436-4dbf-97e0-cbb9a459bbaf",
   "metadata": {},
   "source": [
    "## Item (e)"
   ]
  },
  {
   "cell_type": "code",
   "execution_count": 2,
   "id": "55f36a58-18be-498f-87de-4c4008eef1b3",
   "metadata": {},
   "outputs": [],
   "source": [
    "lambda_0, lambda_1, Y, Z = sp.symbols('lambda_0 lambda_1 Y Z') # declares the variables \n",
    "\n",
    "# declares the equation\n",
    "f = (1-Y)*sp.log(sp.exp(lambda_0 + lambda_1*Z) / (sp.exp(lambda_0 + lambda_1*Z) + 1)) + Y*sp.log(1 / (sp.exp(lambda_0 + lambda_1*Z) + 1)) \n",
    "\n",
    "# computes the derivative with respect to lambda_0\n",
    "d2f_dl02 = sp.diff(sp.diff(f, lambda_0), lambda_0)\n",
    "df_dl0l1 = sp.diff(sp.diff(f, lambda_0), lambda_1)\n",
    "df_dl1l0 = sp.diff(sp.diff(f, lambda_1), lambda_0)\n",
    "d2f_dl12 = sp.diff(sp.diff(f, lambda_1), lambda_1)"
   ]
  },
  {
   "cell_type": "code",
   "execution_count": 3,
   "id": "21b335f2-bffe-4daa-a9ef-620e9f351349",
   "metadata": {
    "scrolled": true
   },
   "outputs": [
    {
     "data": {
      "text/latex": [
       "$\\displaystyle - \\frac{e^{Z \\lambda_{1} + \\lambda_{0}}}{2 e^{Z \\lambda_{1} + \\lambda_{0}} + e^{2 Z \\lambda_{1} + 2 \\lambda_{0}} + 1}$"
      ],
      "text/plain": [
       "-exp(Z*lambda_1 + lambda_0)/(2*exp(Z*lambda_1 + lambda_0) + exp(2*Z*lambda_1 + 2*lambda_0) + 1)"
      ]
     },
     "execution_count": 3,
     "metadata": {},
     "output_type": "execute_result"
    }
   ],
   "source": [
    "sp.simplify(d2f_dl02)"
   ]
  },
  {
   "cell_type": "code",
   "execution_count": 4,
   "id": "39d8862c-9bcf-46f4-822f-493f81ce3cc8",
   "metadata": {
    "scrolled": true
   },
   "outputs": [
    {
     "data": {
      "text/latex": [
       "$\\displaystyle - \\frac{Z e^{Z \\lambda_{1} + \\lambda_{0}}}{2 e^{Z \\lambda_{1} + \\lambda_{0}} + e^{2 Z \\lambda_{1} + 2 \\lambda_{0}} + 1}$"
      ],
      "text/plain": [
       "-Z*exp(Z*lambda_1 + lambda_0)/(2*exp(Z*lambda_1 + lambda_0) + exp(2*Z*lambda_1 + 2*lambda_0) + 1)"
      ]
     },
     "execution_count": 4,
     "metadata": {},
     "output_type": "execute_result"
    }
   ],
   "source": [
    "sp.simplify(df_dl0l1)"
   ]
  },
  {
   "cell_type": "code",
   "execution_count": 5,
   "id": "b2e6228a-30d1-4144-b3ba-fd1983297dbd",
   "metadata": {
    "scrolled": true
   },
   "outputs": [
    {
     "data": {
      "text/latex": [
       "$\\displaystyle - \\frac{Z e^{Z \\lambda_{1} + \\lambda_{0}}}{2 e^{Z \\lambda_{1} + \\lambda_{0}} + e^{2 Z \\lambda_{1} + 2 \\lambda_{0}} + 1}$"
      ],
      "text/plain": [
       "-Z*exp(Z*lambda_1 + lambda_0)/(2*exp(Z*lambda_1 + lambda_0) + exp(2*Z*lambda_1 + 2*lambda_0) + 1)"
      ]
     },
     "execution_count": 5,
     "metadata": {},
     "output_type": "execute_result"
    }
   ],
   "source": [
    "sp.simplify(df_dl1l0)"
   ]
  },
  {
   "cell_type": "code",
   "execution_count": 6,
   "id": "692f1c60-b469-4e13-87df-3d35d4425003",
   "metadata": {},
   "outputs": [
    {
     "data": {
      "text/latex": [
       "$\\displaystyle - \\frac{Z^{2} e^{Z \\lambda_{1} + \\lambda_{0}}}{2 e^{Z \\lambda_{1} + \\lambda_{0}} + e^{2 Z \\lambda_{1} + 2 \\lambda_{0}} + 1}$"
      ],
      "text/plain": [
       "-Z**2*exp(Z*lambda_1 + lambda_0)/(2*exp(Z*lambda_1 + lambda_0) + exp(2*Z*lambda_1 + 2*lambda_0) + 1)"
      ]
     },
     "execution_count": 6,
     "metadata": {},
     "output_type": "execute_result"
    }
   ],
   "source": [
    "sp.simplify(d2f_dl12)"
   ]
  },
  {
   "cell_type": "markdown",
   "id": "d3ae9e4f-cd8c-446e-952e-9a80ab45cd40",
   "metadata": {},
   "source": [
    "## Item (f)"
   ]
  },
  {
   "cell_type": "code",
   "execution_count": 7,
   "id": "f3e56ad7-096f-4c7f-878b-f3c8f89fb89a",
   "metadata": {},
   "outputs": [],
   "source": [
    "PS7Data = []\n",
    "\n",
    "with open(\"PS7data.txt\", \"r\") as f: # reads the data\n",
    "    for line in f:\n",
    "        PS7Data.append(line[:-1])\n",
    "        \n",
    "PS7Data.pop(0) # excludes header \n",
    "\n",
    "z = [float(re.split(',', x)[0]) for x in PS7Data] # extracts z_i\n",
    "y = [int(re.split(',', x)[1]) for x in PS7Data] # extracts y_i\n",
    "data = np.stack([y, z], axis=1) # gotta stack 'em all\n",
    "\n",
    "lambdas_init = np.array([1, 1]) # initial guesses for lambda_0 and lambda_1"
   ]
  },
  {
   "cell_type": "code",
   "execution_count": 8,
   "id": "4d12b19d-b8a6-4113-afce-f883f44a329e",
   "metadata": {},
   "outputs": [],
   "source": [
    "def ell(lambdas, data): # computes \\ell\n",
    "    ell_sum = 0\n",
    "    for datum in data: # cumulatively sums on each citizen i\n",
    "        curr_ell = (1-datum[0])*np.log((np.exp(lambdas[0] + lambdas[1]*datum[1]))/(np.exp(lambdas[0] + lambdas[1]*datum[1]) + 1)) \\\n",
    "            + datum[0]*np.log(1/(np.exp(lambdas[0] + lambdas[1]*datum[1]) + 1))\n",
    "        ell_sum += curr_ell\n",
    "    return -ell_sum # since it will be minimized"
   ]
  },
  {
   "cell_type": "code",
   "execution_count": 9,
   "id": "290236e9-5e57-414f-8988-f5414942daaf",
   "metadata": {},
   "outputs": [
    {
     "data": {
      "text/plain": [
       "array([ 2.62743097, -0.53892614,  0.35928409])"
      ]
     },
     "execution_count": 9,
     "metadata": {},
     "output_type": "execute_result"
    }
   ],
   "source": [
    "res = minimize(ell, lambdas_init, args=data) # minimizes -\\ell\n",
    "alpha = -res.x[1]/1.5 # computes consistent \\hat{\\alpha}\n",
    "np.append(res.x, alpha) # to be read as ('\\hat{\\lambda}_0', '\\hat{\\lambda}_1', '\\hat{\\alpha}')"
   ]
  },
  {
   "cell_type": "markdown",
   "id": "da3d6667-dc33-4453-947d-93743c4a46ac",
   "metadata": {},
   "source": [
    "## Item (g)"
   ]
  },
  {
   "cell_type": "code",
   "execution_count": 10,
   "id": "f11cf240-f156-4817-b5a0-3c5c91e2d7d3",
   "metadata": {},
   "outputs": [
    {
     "data": {
      "text/plain": [
       "0.8310105149999996"
      ]
     },
     "execution_count": 10,
     "metadata": {},
     "output_type": "execute_result"
    }
   ],
   "source": [
    "# \\gamma_0 - \\gamma_1\n",
    "delta_gamma = 2.62743097 + (-0.53892614) - (+ 0.35928409*5 - 0.35928409*1.5) \n",
    "delta_gamma"
   ]
  },
  {
   "cell_type": "code",
   "execution_count": 11,
   "id": "523676fa-c2ad-4245-a810-b2f551116259",
   "metadata": {},
   "outputs": [
    {
     "data": {
      "text/plain": [
       "0.3426812220334933"
      ]
     },
     "execution_count": 11,
     "metadata": {},
     "output_type": "execute_result"
    }
   ],
   "source": [
    "# \\hat{\\Pr}\n",
    "1/(np.exp((delta_gamma + 0.35928409*7) - 0.35928409*1.5*5) + 1) "
   ]
  }
 ],
 "metadata": {
  "kernelspec": {
   "display_name": "Python 3 (ipykernel)",
   "language": "python",
   "name": "python3"
  },
  "language_info": {
   "codemirror_mode": {
    "name": "ipython",
    "version": 3
   },
   "file_extension": ".py",
   "mimetype": "text/x-python",
   "name": "python",
   "nbconvert_exporter": "python",
   "pygments_lexer": "ipython3",
   "version": "3.11.5"
  }
 },
 "nbformat": 4,
 "nbformat_minor": 5
}
